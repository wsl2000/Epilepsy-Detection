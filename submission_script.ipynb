{
 "cells": [
  {
   "cell_type": "markdown",
   "id": "8001f43e-9f41-4bdc-8050-995e9bbfb62e",
   "metadata": {},
   "source": [
    "# 提交脚本\n",
    "\n",
    "提示：<br>\n",
    "-请<span style=\"color:red\">定期备份</span>你们的文件到外部存储！<br>\n",
    "-检查你们的<span style=\"color:red\">requirements.txt</span>。缺少包是一个常见错误。<br>\n",
    "-使用<span style=\"color:red\">conda</span>环境来避免包之间的潜在问题。在极少数情况下，如果存在冲突，可能会导致你们的服务器无法启动。<br>\n",
    "-如果你们对数据有任何要求（例如信号的最小长度），请事先用if/else或try/except<span style=\"color:red\">进行检查</span>。你们永远不知道算法在隐藏数据集中会收到什么样的数据，它不能崩溃！<br>\n",
    "-重要：在通过提交将代码发送到我们的服务器之前，请检查你们的代码<span style=\"color:red\">没有无限循环</span>！<br>\n",
    "\n",
    "提交系统是全新搭建的。如果你们遇到问题，请在Moodle论坛中写明错误描述（例如堆栈跟踪、截图、输出等）！必要时可写邮件至wettbewerb@kismed.tu-darmstadt.de <br>\n",
    "<span style=\"color:red\">当不需要提交时，请始终注释掉提交方法</span>，以避免错误！"
   ]
  },
  {
   "cell_type": "markdown",
   "id": "dcb6f3e9-04a4-4eb1-8733-01a07207b10f",
   "metadata": {},
   "source": [
    "### 执行以下单元格，但不要更改任何内容！"
   ]
  },
  {
   "cell_type": "code",
   "execution_count": null,
   "id": "648cd42e-9e4e-4ed6-b535-0b8cd943653d",
   "metadata": {},
   "outputs": [],
   "source": [
    "# 不要更改任何内容！！！\n",
    "import client\n",
    "# 你们只能在10秒后再次向服务器提交。\n",
    "# 这是为了保护你们，\n",
    "# 防止意外重复执行单元格。\n",
    "import time\n",
    "last_server_interaction = 0\n",
    "cooldown = 10  # seconds"
   ]
  },
  {
   "cell_type": "markdown",
   "id": "83488b4b-ebd8-4b2e-8797-c4e57315c56c",
   "metadata": {},
   "source": [
    "### 请正确填写以下字典的值，包含你们的数据"
   ]
  },
  {
   "cell_type": "code",
   "execution_count": null,
   "id": "39b7af36-1c45-4a44-9cb1-41338c0652c0",
   "metadata": {},
   "outputs": [],
   "source": [
    "# 我们的示例（用你们的信息替换':'右边的部分）：\n",
    "abgabe = {\n",
    "    \"team_name\": \"KISMED\",\n",
    "    \"git_SSH\": \"git@github.com:KISMED-TUDa/wki-sose24.git\",\n",
    "    \"model\": \"model.json\",\n",
    "    \"python_version\": 3.8\n",
    "         }"
   ]
  },
  {
   "cell_type": "markdown",
   "id": "d77828f3-ccd3-43e1-b0a2-31101cf108b9",
   "metadata": {},
   "source": [
    "### 用这个进行测试提交。\n",
    "这不会被评分或保存。代码将在training_mini上测试。<br>\n",
    "我们期望你们测试代码！一旦在这里通过，你们就可以使用下面的单元格进行提交。<br>\n",
    "等待直到收到成功或错误的响应。"
   ]
  },
  {
   "cell_type": "code",
   "execution_count": null,
   "id": "eae2cf9e-946f-4bee-9cad-632a964a49e0",
   "metadata": {},
   "outputs": [],
   "source": [
    "if time.time()-last_server_interaction < cooldown:\n",
    "    print(\"please wait\")\n",
    "else:\n",
    "    client.test_submission(abgabe)\n",
    "    last_server_interaction = time.time()"
   ]
  },
  {
   "cell_type": "markdown",
   "id": "6da3d9d4-6abc-4ef1-89fc-ac46efeb6961",
   "metadata": {},
   "source": [
    "### 用这个进行中间提交\n",
    "最多允许5次中间提交。请事先测试你们的代码（见上）！<br>\n",
    "由于代码在验证数据集上可能需要很长时间（取决于模型），你们不会收到自动反馈。一旦出现\"JSON arrived\"，表示你们的代码已经收到。你们可以离开服务器。<br>\n",
    "下面将解释如何查询你们的结果/状态。"
   ]
  },
  {
   "cell_type": "code",
   "execution_count": null,
   "id": "d2b78fea-cf8a-45c9-973c-04c1faedd27c",
   "metadata": {},
   "outputs": [],
   "source": [
    "if time.time()-last_server_interaction < cooldown:\n",
    "    print(\"please wait\")\n",
    "else:\n",
    "    ##client.make_submission(abgabe)\n",
    "    last_server_interaction = time.time()"
   ]
  },
  {
   "cell_type": "markdown",
   "id": "f23a080b-30f0-413c-a0bc-15469a8c6ff3",
   "metadata": {},
   "source": [
    "### <span style=\"color:red\">[注意！]</span> 用这个进行最终提交\n",
    "这和中间提交的工作方式相同，只是这里进行的是最终提交！"
   ]
  },
  {
   "cell_type": "code",
   "execution_count": null,
   "id": "41ca478d-6ecc-49ab-8f6a-ee3afa87fcb6",
   "metadata": {},
   "outputs": [],
   "source": [
    "'''\n",
    "if time.time()-last_server_interaction < cooldown:\n",
    "    print(\"please wait\")\n",
    "else:\n",
    "    ##client.final_submission(abgabe) #小心！\n",
    "    last_server_interaction = time.time()\n",
    "''';"
   ]
  },
  {
   "cell_type": "markdown",
   "id": "59e09ad3-434b-44cb-bd0c-862d39417ac5",
   "metadata": {},
   "source": [
    "### 用这个可以从我们的数据库查询最后的评分运行"
   ]
  },
  {
   "cell_type": "code",
   "execution_count": null,
   "id": "c78448d3-1a8e-4e6a-949d-ac6f1db1d099",
   "metadata": {},
   "outputs": [],
   "source": [
    "client.get_last_result()"
   ]
  },
  {
   "cell_type": "markdown",
   "id": "09095b21-8d35-43ee-a4f4-974c124a0111",
   "metadata": {},
   "source": [
    "### 用这个可以查看你们是否还在队列中或提交中是否出现了错误\n",
    "我们不会在\"正式\"提交中转发错误信息，以避免数据泄露。如果你们的代码在测试提交中通过，遇到问题时请联系助手（wettbewerb@kismed.tu-darmstadt.de）！"
   ]
  },
  {
   "cell_type": "code",
   "execution_count": null,
   "id": "5f9328a0-ff17-4bc9-b4c7-765d69a02993",
   "metadata": {},
   "outputs": [],
   "source": [
    "client.check_for_queue_and_errors()"
   ]
  }
 ],
 "metadata": {
  "kernelspec": {
   "display_name": "Python [conda env:root] *",
   "language": "python",
   "name": "conda-root-py"
  },
  "language_info": {
   "codemirror_mode": {
    "name": "ipython",
    "version": 3
   },
   "file_extension": ".py",
   "mimetype": "text/x-python",
   "name": "python",
   "nbconvert_exporter": "python",
   "pygments_lexer": "ipython3",
   "version": "3.9.12"
  }
 },
 "nbformat": 4,
 "nbformat_minor": 5
}
